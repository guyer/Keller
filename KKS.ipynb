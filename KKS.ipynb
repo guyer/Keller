{
 "cells": [
  {
   "cell_type": "markdown",
   "metadata": {
    "ExecuteTime": {
     "end_time": "2020-02-19T16:23:25.295627Z",
     "start_time": "2020-02-19T16:23:25.291001Z"
    }
   },
   "source": [
    "# Trying to understand Trevor's interfaces"
   ]
  },
  {
   "cell_type": "code",
   "execution_count": null,
   "metadata": {
    "ExecuteTime": {
     "end_time": "2020-02-19T16:23:25.486072Z",
     "start_time": "2020-02-19T16:23:25.455664Z"
    },
    "collapsed": true
   },
   "outputs": [],
   "source": [
    "%matplotlib inline"
   ]
  },
  {
   "cell_type": "code",
   "execution_count": null,
   "metadata": {
    "ExecuteTime": {
     "end_time": "2020-02-19T15:02:23.549336Z",
     "start_time": "2020-02-19T15:02:21.044943Z"
    },
    "collapsed": true
   },
   "outputs": [],
   "source": [
    "import numpy as np\n",
    "from matplotlib import pyplot as plt\n",
    "from scipy.optimize import fsolve"
   ]
  },
  {
   "cell_type": "code",
   "execution_count": null,
   "metadata": {
    "collapsed": true
   },
   "outputs": [],
   "source": [
    "figW, figH = plt.rcParams['figure.figsize']\n",
    "plt.rcParams['figure.figsize'] = [2.5 * figW, 1.75 * figH]"
   ]
  },
  {
   "cell_type": "markdown",
   "metadata": {},
   "source": [
    "## Parabolic energy wells"
   ]
  },
  {
   "cell_type": "code",
   "execution_count": null,
   "metadata": {
    "ExecuteTime": {
     "end_time": "2020-02-18T23:08:29.805920Z",
     "start_time": "2020-02-18T23:08:29.800669Z"
    },
    "collapsed": true
   },
   "outputs": [],
   "source": [
    "def f_gen(C, a, C0, f0):\n",
    "    return (1./(4*a)) * (C - C0)**2 + f0"
   ]
  },
  {
   "cell_type": "code",
   "execution_count": null,
   "metadata": {
    "ExecuteTime": {
     "end_time": "2020-02-18T23:08:30.047920Z",
     "start_time": "2020-02-18T23:08:30.042997Z"
    },
    "collapsed": true
   },
   "outputs": [],
   "source": [
    "def dfdC_gen(C, a, C0):\n",
    "    return (1./(2*a)) * (C - C0)"
   ]
  },
  {
   "cell_type": "code",
   "execution_count": null,
   "metadata": {
    "ExecuteTime": {
     "end_time": "2020-02-18T23:08:30.227741Z",
     "start_time": "2020-02-18T23:08:30.222924Z"
    },
    "collapsed": true
   },
   "outputs": [],
   "source": [
    "def fS(C):\n",
    "    return f_gen(C, a=aS, C0=C0S, f0=f0S)"
   ]
  },
  {
   "cell_type": "code",
   "execution_count": null,
   "metadata": {
    "ExecuteTime": {
     "end_time": "2020-02-18T23:08:30.389355Z",
     "start_time": "2020-02-18T23:08:30.384849Z"
    },
    "collapsed": true
   },
   "outputs": [],
   "source": [
    "def dfSdC(C):\n",
    "    return dfdC_gen(C, a=aS, C0=C0S)"
   ]
  },
  {
   "cell_type": "code",
   "execution_count": null,
   "metadata": {
    "ExecuteTime": {
     "end_time": "2020-02-18T23:08:30.796303Z",
     "start_time": "2020-02-18T23:08:30.791136Z"
    },
    "collapsed": true
   },
   "outputs": [],
   "source": [
    "def fL(C):\n",
    "    return f_gen(C, a=aL, C0=C0L, f0=f0L)"
   ]
  },
  {
   "cell_type": "code",
   "execution_count": null,
   "metadata": {
    "ExecuteTime": {
     "end_time": "2020-02-18T23:08:31.396433Z",
     "start_time": "2020-02-18T23:08:31.391324Z"
    },
    "collapsed": true
   },
   "outputs": [],
   "source": [
    "def dfLdC(C):\n",
    "    return dfdC_gen(C, a=aL, C0=C0L)"
   ]
  },
  {
   "cell_type": "markdown",
   "metadata": {},
   "source": [
    "## Equilibrium\n",
    "\n",
    "Determined by common tangent:\n",
    "$$\\left.\\frac{\\partial f_S}{\\partial C_S}\\right|_{C_S^{eq}} = \\left.\\frac{\\partial f_L}{\\partial C_L}\\right|_{C_L^{eq}}$$\n",
    "$$\\left.f_L\\right|_{C_L^{eq}} = \\left.f_S\\right|_{C_S^{eq}} + \\left(C_L^{eq} - C_S^{eq}\\right)\\left.\\frac{\\partial f_S}{\\partial C_S}\\right|_{C_S^{eq}} $$"
   ]
  },
  {
   "cell_type": "code",
   "execution_count": null,
   "metadata": {
    "ExecuteTime": {
     "end_time": "2020-02-19T15:10:15.513051Z",
     "start_time": "2020-02-19T15:10:15.507702Z"
    },
    "collapsed": true
   },
   "outputs": [],
   "source": [
    "def equilibrium(C):\n",
    "    return [dfSdC(C[0]) - dfLdC(C[1]),\n",
    "            fL(C[1]) - fS(C[0]) - (C[1] - C[0]) * dfSdC(C[0])]"
   ]
  },
  {
   "cell_type": "markdown",
   "metadata": {},
   "source": [
    "## Fictitious compositions\n",
    "\n",
    "Determined by parallel tangent\n",
    "$$\\left.\\frac{\\partial f_S}{\\partial C_S}\\right|_{C_S} = \\left.\\frac{\\partial f_L}{\\partial C_L}\\right|_{C_L}$$\n",
    "and relation between system composition and fictitious compositions\n",
    "$$C = h(\\phi) C_S + [1 - h(\\phi)] C_L$$"
   ]
  },
  {
   "cell_type": "markdown",
   "metadata": {},
   "source": [
    "### Numerical solution"
   ]
  },
  {
   "cell_type": "code",
   "execution_count": null,
   "metadata": {
    "ExecuteTime": {
     "end_time": "2020-02-19T15:33:27.327961Z",
     "start_time": "2020-02-19T15:33:27.322046Z"
    },
    "collapsed": true
   },
   "outputs": [],
   "source": [
    "def fictitious(x, *args):\n",
    "    CS, CL = x\n",
    "    C, phi = args\n",
    "    return [dfSdC(CS) - dfLdC(CL),\n",
    "            C - h(phi) * CS - (1 - h(phi)) * CL]"
   ]
  },
  {
   "cell_type": "markdown",
   "metadata": {},
   "source": [
    "### Analytical solution"
   ]
  },
  {
   "cell_type": "code",
   "execution_count": null,
   "metadata": {
    "ExecuteTime": {
     "end_time": "2020-02-18T23:03:47.703273Z",
     "start_time": "2020-02-18T23:03:47.698506Z"
    },
    "collapsed": true
   },
   "outputs": [],
   "source": [
    "def CL(C, phi):\n",
    "    return (aL * C + h(phi) * (aS * C0L - aL * C0S))/(aS * h(phi) + aL * (1 - h(phi)))"
   ]
  },
  {
   "cell_type": "code",
   "execution_count": null,
   "metadata": {
    "ExecuteTime": {
     "end_time": "2020-02-18T23:04:08.935178Z",
     "start_time": "2020-02-18T23:04:08.930206Z"
    },
    "collapsed": true
   },
   "outputs": [],
   "source": [
    "def CS(C, phi):\n",
    "    return (aS * C - (1 - h(phi)) * (aS * C0L - aL * C0S))/(aS * h(phi) + aL * (1 - h(phi)))"
   ]
  },
  {
   "cell_type": "markdown",
   "metadata": {},
   "source": [
    "## Model Parameters"
   ]
  },
  {
   "cell_type": "code",
   "execution_count": null,
   "metadata": {
    "collapsed": true
   },
   "outputs": [],
   "source": [
    "d0 = 0.2   # width of the interface\n",
    "w0 = 10.   # barrier height between energy wells\n",
    "dens = 256 # number of points in np.linspace calls"
   ]
  },
  {
   "cell_type": "markdown",
   "metadata": {},
   "source": [
    "## Plot free energy and common tangent"
   ]
  },
  {
   "cell_type": "code",
   "execution_count": null,
   "metadata": {
    "ExecuteTime": {
     "end_time": "2020-02-19T15:10:13.552487Z",
     "start_time": "2020-02-19T15:10:13.546615Z"
    },
    "collapsed": true
   },
   "outputs": [],
   "source": [
    "aL = 0.001\n",
    "C0L = 0.775\n",
    "f0L = 0.\n",
    "\n",
    "aS = 0.01\n",
    "C0S = 0.375\n",
    "f0S = 0.125"
   ]
  },
  {
   "cell_type": "code",
   "execution_count": null,
   "metadata": {
    "ExecuteTime": {
     "end_time": "2020-02-19T15:10:16.819273Z",
     "start_time": "2020-02-19T15:10:16.813818Z"
    },
    "collapsed": false
   },
   "outputs": [],
   "source": [
    "CSeq, CLeq = fsolve(func=equilibrium, x0=(0., 0.8))\n",
    "print (CSeq, CLeq)"
   ]
  },
  {
   "cell_type": "code",
   "execution_count": null,
   "metadata": {
    "ExecuteTime": {
     "end_time": "2020-02-19T15:10:14.402623Z",
     "start_time": "2020-02-19T15:10:14.397822Z"
    },
    "collapsed": true
   },
   "outputs": [],
   "source": [
    "C = np.linspace(0, 1, dens)"
   ]
  },
  {
   "cell_type": "code",
   "execution_count": null,
   "metadata": {
    "ExecuteTime": {
     "end_time": "2020-02-19T15:10:18.019961Z",
     "start_time": "2020-02-19T15:10:17.897800Z"
    },
    "collapsed": false
   },
   "outputs": [],
   "source": [
    "d = d0\n",
    "w = w0\n",
    "plt.plot(C, fS(C), label=\"S\")\n",
    "plt.plot(C, fL(C), label=\"L\")\n",
    "plt.plot([CSeq, CLeq], [fS(CSeq), fL(CLeq)])\n",
    "plt.ylim(0, 2)\n",
    "plt.xlim(0, 1)\n",
    "plt.legend(loc=\"best\")"
   ]
  },
  {
   "cell_type": "markdown",
   "metadata": {},
   "source": [
    "### Interpolators"
   ]
  },
  {
   "cell_type": "code",
   "execution_count": null,
   "metadata": {
    "ExecuteTime": {
     "end_time": "2020-02-18T23:04:26.262205Z",
     "start_time": "2020-02-18T23:04:26.257520Z"
    },
    "collapsed": true
   },
   "outputs": [],
   "source": [
    "def h(phi):\n",
    "    return phi**3 * (6 * phi**2 - 15 * phi + 10)"
   ]
  },
  {
   "cell_type": "code",
   "execution_count": null,
   "metadata": {
    "ExecuteTime": {
     "end_time": "2020-02-19T14:53:38.590702Z",
     "start_time": "2020-02-19T14:53:38.585278Z"
    },
    "collapsed": true
   },
   "outputs": [],
   "source": [
    "def g(phi):\n",
    "    return phi**2 * (1 - phi)**2"
   ]
  },
  {
   "cell_type": "markdown",
   "metadata": {},
   "source": [
    "### System free energy"
   ]
  },
  {
   "cell_type": "code",
   "execution_count": null,
   "metadata": {
    "ExecuteTime": {
     "end_time": "2020-02-19T14:53:40.738944Z",
     "start_time": "2020-02-19T14:53:40.733970Z"
    },
    "collapsed": true
   },
   "outputs": [],
   "source": [
    "def f(xS, xL, phi):\n",
    "    return h(phi) * fS(xS) + (1 - h(phi)) * fL(xL) + w * g(phi)"
   ]
  },
  {
   "cell_type": "markdown",
   "metadata": {},
   "source": [
    "## Plot hypothetical interfaces"
   ]
  },
  {
   "cell_type": "code",
   "execution_count": null,
   "metadata": {
    "ExecuteTime": {
     "end_time": "2020-02-19T15:10:45.191511Z",
     "start_time": "2020-02-19T15:10:45.186694Z"
    },
    "collapsed": true
   },
   "outputs": [],
   "source": [
    "x = np.linspace(-1, 1, dens)"
   ]
  },
  {
   "cell_type": "markdown",
   "metadata": {},
   "source": [
    "### Equilibrium"
   ]
  },
  {
   "cell_type": "code",
   "execution_count": null,
   "metadata": {
    "ExecuteTime": {
     "end_time": "2020-02-19T16:16:42.764116Z",
     "start_time": "2020-02-19T16:16:42.606325Z"
    },
    "collapsed": false
   },
   "outputs": [],
   "source": [
    "d = d0\n",
    "w = w0\n",
    "CS0, CL0 = CSeq, CLeq\n",
    "phi = 0.5 * (1 + np.tanh(x/(2*d)))\n",
    "# plt.plot(x, phi)\n",
    "C = h(phi) * CS0 + (1 - h(phi)) * CL0\n",
    "CSfic, CLfic = np.array([fsolve(func=fictitious, x0=(0.5, 0.5), args=(Cval, phival)) for Cval, phival in zip(C, phi)]).T\n",
    "plt.subplot(1, 2, 1)\n",
    "plt.plot(x, C)\n",
    "plt.plot(x, CSfic, linestyle=\"--\")\n",
    "plt.plot(x, CLfic, linestyle=\"--\")\n",
    "#plt.plot(x, CS(C, phi), linestyle=\":\")\n",
    "#plt.plot(x, CL(C, phi), linestyle=\":\")\n",
    "plt.subplot(1, 2, 2)\n",
    "plt.plot(x, f(CSfic, CLfic, phi))"
   ]
  },
  {
   "cell_type": "markdown",
   "metadata": {},
   "source": [
    "### Slightly depleted liquid"
   ]
  },
  {
   "cell_type": "code",
   "execution_count": null,
   "metadata": {
    "ExecuteTime": {
     "end_time": "2020-02-19T16:16:34.195436Z",
     "start_time": "2020-02-19T16:16:34.189621Z"
    },
    "collapsed": false
   },
   "outputs": [],
   "source": [
    "d = d0\n",
    "w = w0\n",
    "C0 = 0.79961\n",
    "phi0 = 0.\n",
    "CL0 = CL(C=C0, phi=phi0)\n",
    "CS0 = CS(C=C0, phi=phi0)\n",
    "print (CS0, CL0)"
   ]
  },
  {
   "cell_type": "code",
   "execution_count": null,
   "metadata": {
    "ExecuteTime": {
     "end_time": "2020-02-19T16:16:36.228993Z",
     "start_time": "2020-02-19T16:16:36.072804Z"
    },
    "collapsed": false
   },
   "outputs": [],
   "source": [
    "phi = 0.5 * (1 + np.tanh(x/(2*d)))\n",
    "#plt.plot(x, phi)\n",
    "C = h(phi) * CS0 + (1 - h(phi)) * CL0\n",
    "CSfic, CLfic = np.array([fsolve(func=fictitious, x0=(0.5, 0.5), args=(Cval, phival)) for Cval, phival in zip(C, phi)]).T\n",
    "plt.subplot(1, 2, 1)\n",
    "plt.plot(x, C)\n",
    "plt.plot(x, CSfic, linestyle=\"--\")\n",
    "plt.plot(x, CLfic, linestyle=\"--\")\n",
    "#plt.plot(x, CS(C, phi), linestyle=\":\")\n",
    "#plt.plot(x, CL(C, phi), linestyle=\":\")\n",
    "plt.subplot(1, 2, 2)\n",
    "plt.plot(x, f(CSfic, CLfic, phi))"
   ]
  },
  {
   "cell_type": "markdown",
   "metadata": {},
   "source": [
    "### Slightly enriched liquid"
   ]
  },
  {
   "cell_type": "code",
   "execution_count": null,
   "metadata": {
    "ExecuteTime": {
     "end_time": "2020-02-19T16:16:22.706913Z",
     "start_time": "2020-02-19T16:16:22.701012Z"
    },
    "collapsed": false
   },
   "outputs": [],
   "source": [
    "d = d0\n",
    "w = w0\n",
    "C0 = 0.79999\n",
    "phi0 = 0.\n",
    "CL0 = CL(C=C0, phi=phi0)\n",
    "CS0 = CS(C=C0, phi=phi0)\n",
    "print (CS0, CL0)"
   ]
  },
  {
   "cell_type": "code",
   "execution_count": null,
   "metadata": {
    "ExecuteTime": {
     "end_time": "2020-02-19T16:16:23.055248Z",
     "start_time": "2020-02-19T16:16:22.896115Z"
    },
    "collapsed": false,
    "scrolled": true
   },
   "outputs": [],
   "source": [
    "phi = 0.5 * (1 + np.tanh(x/(2*d)))\n",
    "#plt.plot(x, phi)\n",
    "C = h(phi) * CS0 + (1 - h(phi)) * CL0\n",
    "CSfic, CLfic = np.array([fsolve(func=fictitious, x0=(0.5, 0.5), args=(Cval, phival)) for Cval, phival in zip(C, phi)]).T\n",
    "plt.subplot(1, 2, 1)\n",
    "plt.plot(x, C)\n",
    "plt.plot(x, CSfic, linestyle=\"--\")\n",
    "plt.plot(x, CLfic, linestyle=\"--\")\n",
    "#plt.plot(x, CS(C, phi), linestyle=\":\")\n",
    "#plt.plot(x, CL(C, phi), linestyle=\":\")\n",
    "plt.subplot(1, 2, 2)\n",
    "plt.plot(x, f(CSfic, CLfic, phi))"
   ]
  },
  {
   "cell_type": "markdown",
   "metadata": {},
   "source": [
    "### Very depleted liquid"
   ]
  },
  {
   "cell_type": "code",
   "execution_count": null,
   "metadata": {
    "ExecuteTime": {
     "end_time": "2020-02-19T16:25:02.015458Z",
     "start_time": "2020-02-19T16:25:02.009391Z"
    },
    "collapsed": false
   },
   "outputs": [],
   "source": [
    "d = d0\n",
    "w = w0\n",
    "C0 = 0.7\n",
    "phi0 = 0.\n",
    "CL0 = CL(C=C0, phi=phi0)\n",
    "CS0 = CS(C=C0, phi=phi0)\n",
    "print (CS0, CL0)"
   ]
  },
  {
   "cell_type": "code",
   "execution_count": null,
   "metadata": {
    "ExecuteTime": {
     "end_time": "2020-02-19T16:25:05.136186Z",
     "start_time": "2020-02-19T16:25:04.977548Z"
    },
    "collapsed": false
   },
   "outputs": [],
   "source": [
    "phi = 0.5 * (1 + np.tanh(x/(2*d)))\n",
    "#plt.plot(x, phi)\n",
    "C = h(phi) * CS0 + (1 - h(phi)) * CL0\n",
    "CSfic, CLfic = np.array([fsolve(func=fictitious, x0=(0.5, 0.5), args=(Cval, phival)) for Cval, phival in zip(C, phi)]).T\n",
    "plt.subplot(1, 2, 1)\n",
    "plt.plot(x, C)\n",
    "plt.plot(x, CSfic, linestyle=\"--\")\n",
    "plt.plot(x, CLfic, linestyle=\"--\")\n",
    "#plt.plot(x, CS(C, phi), linestyle=\":\")\n",
    "#plt.plot(x, CL(C, phi), linestyle=\":\")\n",
    "plt.subplot(1, 2, 2)\n",
    "plt.plot(x, f(CSfic, CLfic, phi))"
   ]
  },
  {
   "cell_type": "markdown",
   "metadata": {},
   "source": [
    "### Very enriched solid"
   ]
  },
  {
   "cell_type": "code",
   "execution_count": null,
   "metadata": {
    "ExecuteTime": {
     "end_time": "2020-02-19T16:16:18.862201Z",
     "start_time": "2020-02-19T16:16:18.855950Z"
    },
    "collapsed": false
   },
   "outputs": [],
   "source": [
    "d = d0\n",
    "w = w0\n",
    "C0 = 0.9\n",
    "phi0 = 1.\n",
    "CL0 = CL(C=C0, phi=phi0)\n",
    "CS0 = CS(C=C0, phi=phi0)\n",
    "print (CS0, CL0)"
   ]
  },
  {
   "cell_type": "code",
   "execution_count": null,
   "metadata": {
    "ExecuteTime": {
     "end_time": "2020-02-19T16:16:19.502920Z",
     "start_time": "2020-02-19T16:16:19.350676Z"
    },
    "collapsed": false
   },
   "outputs": [],
   "source": [
    "phi = 0.5 * (1 + np.tanh(x/(2*d)))\n",
    "# plt.plot(x, phi)\n",
    "C = h(phi) * CS0 + (1 - h(phi)) * CL0\n",
    "CSfic, CLfic = np.array([fsolve(func=fictitious, x0=(0.5, 0.5), args=(Cval, phival)) for Cval, phival in zip(C, phi)]).T\n",
    "plt.subplot(1, 2, 1)\n",
    "plt.plot(x, C)\n",
    "plt.plot(x, CSfic, linestyle=\"--\")\n",
    "plt.plot(x, CLfic, linestyle=\"--\")\n",
    "#plt.plot(x, CS(C, phi), linestyle=\":\")\n",
    "#plt.plot(x, CL(C, phi), linestyle=\":\")\n",
    "plt.subplot(1, 2, 2)\n",
    "plt.plot(x, f(CSfic, CLfic, phi))"
   ]
  },
  {
   "cell_type": "code",
   "execution_count": null,
   "metadata": {
    "collapsed": true
   },
   "outputs": [],
   "source": []
  }
 ],
 "metadata": {
  "kernelspec": {
   "display_name": "Python 3",
   "language": "python",
   "name": "python3"
  },
  "language_info": {
   "codemirror_mode": {
    "name": "ipython",
    "version": 3
   },
   "file_extension": ".py",
   "mimetype": "text/x-python",
   "name": "python",
   "nbconvert_exporter": "python",
   "pygments_lexer": "ipython3",
   "version": "3.5.3"
  },
  "toc": {
   "base_numbering": 1,
   "nav_menu": {},
   "number_sections": true,
   "sideBar": true,
   "skip_h1_title": false,
   "title_cell": "Table of Contents",
   "title_sidebar": "Contents",
   "toc_cell": false,
   "toc_position": {},
   "toc_section_display": true,
   "toc_window_display": true
  }
 },
 "nbformat": 4,
 "nbformat_minor": 2
}
